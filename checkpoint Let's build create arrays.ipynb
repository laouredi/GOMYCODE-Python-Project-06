{
 "cells": [
  {
   "cell_type": "code",
   "execution_count": 1,
   "id": "52bfa1cb",
   "metadata": {},
   "outputs": [
    {
     "name": "stdout",
     "output_type": "stream",
     "text": [
      "[1, 2, 3, 4, 5]\n"
     ]
    }
   ],
   "source": [
    "import numpy as np\n",
    "\n",
    "array = np.array([1, 2, 3, 4, 5])\n",
    "\n",
    "ordinary_list = array.tolist()\n",
    "\n",
    "print(ordinary_list)"
   ]
  },
  {
   "cell_type": "code",
   "execution_count": 2,
   "id": "4ec41d0a",
   "metadata": {},
   "outputs": [
    {
     "name": "stdout",
     "output_type": "stream",
     "text": [
      "Method 1: Sum of the diagonal elements: 15\n",
      "Method 2: Sum of the diagonal elements: 15\n"
     ]
    }
   ],
   "source": [
    "import numpy as np\n",
    "\n",
    "array = np.array([[1, 2, 3], [4, 5, 6], [7, 8, 9]])\n",
    "\n",
    "# Manually (without direct function)\n",
    "\n",
    "sum_diagonal = 0\n",
    "for i in range(array.shape[0]):\n",
    "    sum_diagonal += array[i, i]\n",
    "\n",
    "print(\"Method 1: Sum of the diagonal elements:\", sum_diagonal)\n",
    "\n",
    "# Using the trace function\n",
    "sum_diagonal = np.trace(array)\n",
    "\n",
    "print(\"Method 2: Sum of the diagonal elements:\", sum_diagonal)"
   ]
  },
  {
   "cell_type": "code",
   "execution_count": 3,
   "id": "334296f6",
   "metadata": {},
   "outputs": [
    {
     "name": "stdout",
     "output_type": "stream",
     "text": [
      "[3 5]\n"
     ]
    }
   ],
   "source": [
    "import numpy as np\n",
    "\n",
    "array = np.array([[1, 2], [3, 5]])\n",
    "\n",
    "X = 2\n",
    "\n",
    "result = array[array > X]\n",
    "\n",
    "print(result)"
   ]
  },
  {
   "cell_type": "code",
   "execution_count": 4,
   "id": "cd6b351a",
   "metadata": {},
   "outputs": [
    {
     "name": "stdout",
     "output_type": "stream",
     "text": [
      "[5. 7. 9.]\n"
     ]
    }
   ],
   "source": [
    "import numpy as np\n",
    "\n",
    "A = np.array([1, 2, 3])\n",
    "B = np.array([4, 5, 6])\n",
    "\n",
    "C = np.empty(A.shape)\n",
    "\n",
    "for i in range(A.shape[0]):\n",
    "    C[i] = A[i] + B[i]\n",
    "\n",
    "print(C)\n"
   ]
  },
  {
   "cell_type": "code",
   "execution_count": 5,
   "id": "7b429ba5",
   "metadata": {},
   "outputs": [
    {
     "name": "stdout",
     "output_type": "stream",
     "text": [
      "[[-1.  0.  1.]\n",
      " [-1.  0.  1.]\n",
      " [-1.  0.  1.]]\n"
     ]
    }
   ],
   "source": [
    "import numpy as np\n",
    "\n",
    "matrix = np.array([[1, 2, 3], [4, 5, 6], [7, 8, 9]])\n",
    "\n",
    "row_means = np.mean(matrix, axis=1, keepdims=True)\n",
    "\n",
    "result = matrix - row_means\n",
    "\n",
    "print(result)\n"
   ]
  },
  {
   "cell_type": "code",
   "execution_count": null,
   "id": "5d08edfb",
   "metadata": {},
   "outputs": [],
   "source": []
  }
 ],
 "metadata": {
  "kernelspec": {
   "display_name": "Python 3 (ipykernel)",
   "language": "python",
   "name": "python3"
  },
  "language_info": {
   "codemirror_mode": {
    "name": "ipython",
    "version": 3
   },
   "file_extension": ".py",
   "mimetype": "text/x-python",
   "name": "python",
   "nbconvert_exporter": "python",
   "pygments_lexer": "ipython3",
   "version": "3.9.13"
  }
 },
 "nbformat": 4,
 "nbformat_minor": 5
}
